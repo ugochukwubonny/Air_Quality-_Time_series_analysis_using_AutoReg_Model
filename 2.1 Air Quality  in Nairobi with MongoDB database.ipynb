{
 "cells": [
  {
   "cell_type": "markdown",
   "id": "5b56f947",
   "metadata": {},
   "source": [
    "# PREDICTING AIR QUALITY IN NAIROBI."
   ]
  },
  {
   "cell_type": "markdown",
   "id": "ccbc7041",
   "metadata": {},
   "source": [
    "### Importing Labraries"
   ]
  },
  {
   "cell_type": "code",
   "execution_count": 2,
   "id": "34405e8a",
   "metadata": {},
   "outputs": [],
   "source": [
    "import pandas as pd\n",
    "\n",
    "from pprint import PrettyPrinter\n",
    "from pymongo import MongoClient"
   ]
  },
  {
   "cell_type": "markdown",
   "id": "4d210c81",
   "metadata": {},
   "source": [
    "Instantiate a `PrettyPrinter`, and assign it to the variable `pp`."
   ]
  },
  {
   "cell_type": "code",
   "execution_count": 3,
   "id": "af778507",
   "metadata": {},
   "outputs": [],
   "source": [
    "pp = PrettyPrinter(indent=2)"
   ]
  },
  {
   "cell_type": "markdown",
   "id": "5e770a58",
   "metadata": {},
   "source": [
    "Create a client that connects to the database running at `localhost` on port `27017`"
   ]
  },
  {
   "cell_type": "code",
   "execution_count": 4,
   "id": "825671b1",
   "metadata": {},
   "outputs": [],
   "source": [
    "client = MongoClient(host=\"localhost\", port=27017)"
   ]
  },
  {
   "cell_type": "code",
   "execution_count": 6,
   "id": "1a50c6d2",
   "metadata": {},
   "outputs": [
    {
     "name": "stdout",
     "output_type": "stream",
     "text": [
      "[ {'empty': False, 'name': 'admin', 'sizeOnDisk': 8515584},\n",
      "  {'empty': False, 'name': 'config', 'sizeOnDisk': 73728},\n",
      "  {'empty': False, 'name': 'local', 'sizeOnDisk': 73728}]\n"
     ]
    }
   ],
   "source": [
    "#list(client.list_databases())\n",
    "pp.pprint(list(client.list_databases()))"
   ]
  },
  {
   "cell_type": "markdown",
   "id": "ec60c3cb",
   "metadata": {},
   "source": [
    "Assign the `\"air-quality\"` database to the variable `db`."
   ]
  },
  {
   "cell_type": "code",
   "execution_count": 5,
   "id": "0acfdb1c",
   "metadata": {},
   "outputs": [],
   "source": [
    "db = client[\"air_quality\"]"
   ]
  },
  {
   "cell_type": "code",
   "execution_count": 6,
   "id": "1739c470",
   "metadata": {},
   "outputs": [
    {
     "name": "stdout",
     "output_type": "stream",
     "text": [
      "nairobi\n",
      "air_quality_in_abuja\n"
     ]
    }
   ],
   "source": [
    "#list(db.list_collections())[0]\n",
    "for c in db.list_collections():\n",
    "    print(c[\"name\"])"
   ]
  },
  {
   "cell_type": "markdown",
   "id": "32fecf29",
   "metadata": {},
   "source": [
    "Assign the `\"nairobi\"` collection in `db` to the variable name `nairobi`."
   ]
  },
  {
   "cell_type": "code",
   "execution_count": 9,
   "id": "40bc635e",
   "metadata": {},
   "outputs": [],
   "source": [
    "nairobi = db[\"nairobi\"]"
   ]
  },
  {
   "cell_type": "markdown",
   "id": "9f44bba3",
   "metadata": {},
   "source": [
    "Use the `count_documents`  method to see how many documents are in the `nairobi` collection."
   ]
  },
  {
   "cell_type": "code",
   "execution_count": 10,
   "id": "e3399457",
   "metadata": {},
   "outputs": [
    {
     "data": {
      "text/plain": [
       "667776"
      ]
     },
     "execution_count": 10,
     "metadata": {},
     "output_type": "execute_result"
    }
   ],
   "source": [
    "nairobi.count_documents({})"
   ]
  },
  {
   "cell_type": "markdown",
   "id": "86551ce8",
   "metadata": {},
   "source": [
    "Use the`find_one` method to retrieve one document from the `nairobi` collection, and assign it to the variable name `result`."
   ]
  },
  {
   "cell_type": "code",
   "execution_count": 11,
   "id": "6480e36b",
   "metadata": {},
   "outputs": [
    {
     "name": "stdout",
     "output_type": "stream",
     "text": [
      "{ '_id': ObjectId('6486cd360b239e8cecce06b8'),\n",
      "  'lat': -1.289,\n",
      "  'location': 3573,\n",
      "  'lon': 36.825,\n",
      "  'sensor_id': 50,\n",
      "  'sensor_type': 'DHT22',\n",
      "  'timestamp': datetime.datetime(2023, 5, 1, 0, 0, 0, 555000),\n",
      "  'value': 99.9,\n",
      "  'value_type': 'humidity'}\n"
     ]
    }
   ],
   "source": [
    "result = nairobi.find_one({})\n",
    "pp.pprint(result)"
   ]
  },
  {
   "cell_type": "code",
   "execution_count": 12,
   "id": "882198e6",
   "metadata": {},
   "outputs": [
    {
     "data": {
      "text/plain": [
       "[7, 33, 3573, 3576, 3579, 3580, 3596]"
      ]
     },
     "execution_count": 12,
     "metadata": {},
     "output_type": "execute_result"
    }
   ],
   "source": [
    "nairobi.distinct(\"location\")"
   ]
  },
  {
   "cell_type": "code",
   "execution_count": 13,
   "id": "36a8bda7",
   "metadata": {},
   "outputs": [
    {
     "data": {
      "text/plain": [
       "66982"
      ]
     },
     "execution_count": 13,
     "metadata": {},
     "output_type": "execute_result"
    }
   ],
   "source": [
    "nairobi.count_documents({\"location\": 7})"
   ]
  },
  {
   "cell_type": "code",
   "execution_count": 42,
   "id": "ff32db60",
   "metadata": {
    "scrolled": true
   },
   "outputs": [
    {
     "data": {
      "text/plain": [
       "68483"
      ]
     },
     "execution_count": 42,
     "metadata": {},
     "output_type": "execute_result"
    }
   ],
   "source": [
    "nairobi.count_documents({\"location\": 33})"
   ]
  },
  {
   "cell_type": "code",
   "execution_count": 43,
   "id": "8f1789ac",
   "metadata": {},
   "outputs": [
    {
     "data": {
      "text/plain": [
       "361708"
      ]
     },
     "execution_count": 43,
     "metadata": {},
     "output_type": "execute_result"
    }
   ],
   "source": [
    "nairobi.count_documents({\"location\": 3573})"
   ]
  },
  {
   "cell_type": "code",
   "execution_count": 44,
   "id": "be154567",
   "metadata": {},
   "outputs": [
    {
     "data": {
      "text/plain": [
       "161070"
      ]
     },
     "execution_count": 44,
     "metadata": {},
     "output_type": "execute_result"
    }
   ],
   "source": [
    "nairobi.count_documents({\"location\": 3576})"
   ]
  },
  {
   "cell_type": "code",
   "execution_count": 45,
   "id": "1223187f",
   "metadata": {},
   "outputs": [
    {
     "data": {
      "text/plain": [
       "1875"
      ]
     },
     "execution_count": 45,
     "metadata": {},
     "output_type": "execute_result"
    }
   ],
   "source": [
    "nairobi.count_documents({\"location\": 3579})"
   ]
  },
  {
   "cell_type": "code",
   "execution_count": 46,
   "id": "9770f1f9",
   "metadata": {},
   "outputs": [
    {
     "data": {
      "text/plain": [
       "3355"
      ]
     },
     "execution_count": 46,
     "metadata": {},
     "output_type": "execute_result"
    }
   ],
   "source": [
    "nairobi.count_documents({\"location\": 3580})"
   ]
  },
  {
   "cell_type": "code",
   "execution_count": 40,
   "id": "ce024a45",
   "metadata": {},
   "outputs": [
    {
     "data": {
      "text/plain": [
       "4303"
      ]
     },
     "execution_count": 40,
     "metadata": {},
     "output_type": "execute_result"
    }
   ],
   "source": [
    "nairobi.count_documents({\"location\": 3596})"
   ]
  },
  {
   "cell_type": "markdown",
   "id": "0030600f",
   "metadata": {},
   "source": [
    "Use the `aggregate` method to determine how many readings there are for each site in the `nairobi` collection."
   ]
  },
  {
   "cell_type": "code",
   "execution_count": 14,
   "id": "1b00122e",
   "metadata": {},
   "outputs": [
    {
     "name": "stdout",
     "output_type": "stream",
     "text": [
      "[ {'_id': 3580, 'count': 3355},\n",
      "  {'_id': 3576, 'count': 161070},\n",
      "  {'_id': 3596, 'count': 4303},\n",
      "  {'_id': 3573, 'count': 361708},\n",
      "  {'_id': 33, 'count': 68483},\n",
      "  {'_id': 7, 'count': 66982},\n",
      "  {'_id': 3579, 'count': 1875}]\n"
     ]
    }
   ],
   "source": [
    "result = nairobi.aggregate(\n",
    "    [\n",
    "        {\n",
    "            \"$group\": {\"_id\": \"$location\", \"count\": {\"$count\": {}}}\n",
    "        }\n",
    "    ]\n",
    ")\n",
    "pp.pprint(list(result))"
   ]
  },
  {
   "cell_type": "code",
   "execution_count": 15,
   "id": "49f0b443",
   "metadata": {},
   "outputs": [
    {
     "data": {
      "text/plain": [
       "['P0', 'P1', 'P2', 'humidity', 'temperature']"
      ]
     },
     "execution_count": 15,
     "metadata": {},
     "output_type": "execute_result"
    }
   ],
   "source": [
    "nairobi.distinct(\"value_type\")"
   ]
  },
  {
   "cell_type": "code",
   "execution_count": 16,
   "id": "bbac6837",
   "metadata": {},
   "outputs": [
    {
     "name": "stdout",
     "output_type": "stream",
     "text": [
      "[ { '_id': ObjectId('6486cd360b239e8cecce06ba'),\n",
      "    'lat': -1.289,\n",
      "    'location': 3573,\n",
      "    'lon': 36.825,\n",
      "    'sensor_id': 49,\n",
      "    'sensor_type': 'pms5003',\n",
      "    'timestamp': datetime.datetime(2023, 5, 1, 0, 0, 34, 240000),\n",
      "    'value': 39.0,\n",
      "    'value_type': 'P2'},\n",
      "  { '_id': ObjectId('6486cd360b239e8cecce06bf'),\n",
      "    'lat': -1.298,\n",
      "    'location': 7,\n",
      "    'lon': 36.791,\n",
      "    'sensor_id': 103,\n",
      "    'sensor_type': 'SDS011',\n",
      "    'timestamp': datetime.datetime(2023, 5, 1, 0, 0, 45, 724000),\n",
      "    'value': 1,\n",
      "    'value_type': 'P2'},\n",
      "  { '_id': ObjectId('6486cd360b239e8cecce06c3'),\n",
      "    'lat': -1.289,\n",
      "    'location': 3573,\n",
      "    'lon': 36.825,\n",
      "    'sensor_id': 49,\n",
      "    'sensor_type': 'pms5003',\n",
      "    'timestamp': datetime.datetime(2023, 5, 1, 0, 1, 7, 58000),\n",
      "    'value': 52.25,\n",
      "    'value_type': 'P2'}]\n"
     ]
    }
   ],
   "source": [
    "result = nairobi.find({\"value_type\": \"P2\"}).limit(3)\n",
    "pp.pprint(list(result))"
   ]
  },
  {
   "cell_type": "markdown",
   "id": "38aa7726",
   "metadata": {},
   "source": [
    "Use the `aggregate` method to calculate how many readings there are for each type (`\"humidity\"`, `\"temperature\"`, `\"P2\"`, and `\"P1\"`) in site `7`, and these step will be repeated on the remaining location."
   ]
  },
  {
   "cell_type": "code",
   "execution_count": 17,
   "id": "977d1f2a",
   "metadata": {},
   "outputs": [
    {
     "name": "stdout",
     "output_type": "stream",
     "text": [
      "[ {'_id': 'P2', 'count': 16745},\n",
      "  {'_id': 'P1', 'count': 16745},\n",
      "  {'_id': 'temperature', 'count': 16746},\n",
      "  {'_id': 'humidity', 'count': 16746}]\n"
     ]
    }
   ],
   "source": [
    "result = nairobi.aggregate(\n",
    "    [\n",
    "        {\"$match\": {\"location\": 7}},\n",
    "        {\n",
    "            \"$group\": {\"_id\": \"$value_type\", \"count\": {\"$count\": {}}}\n",
    "        }\n",
    "    ]\n",
    ")\n",
    "pp.pprint(list(result))"
   ]
  },
  {
   "cell_type": "code",
   "execution_count": 18,
   "id": "969790fb",
   "metadata": {},
   "outputs": [
    {
     "name": "stdout",
     "output_type": "stream",
     "text": [
      "[ {'_id': 'humidity', 'count': 13384},\n",
      "  {'_id': 'P0', 'count': 13905},\n",
      "  {'_id': 'P1', 'count': 13905},\n",
      "  {'_id': 'temperature', 'count': 13384},\n",
      "  {'_id': 'P2', 'count': 13905}]\n"
     ]
    }
   ],
   "source": [
    "result = nairobi.aggregate(\n",
    "    [\n",
    "        {\n",
    "            \"$match\": {\"location\": 33}\n",
    "        },\n",
    "        {\n",
    "            \"$group\": {\"_id\": \"$value_type\", \"count\": {\"$count\": {}}}\n",
    "        }\n",
    "    ]\n",
    ")\n",
    "pp.pprint(list(result))"
   ]
  },
  {
   "cell_type": "code",
   "execution_count": 19,
   "id": "5e994405",
   "metadata": {},
   "outputs": [
    {
     "name": "stdout",
     "output_type": "stream",
     "text": [
      "[ {'_id': 'temperature', 'count': 72350},\n",
      "  {'_id': 'P1', 'count': 72336},\n",
      "  {'_id': 'humidity', 'count': 72350},\n",
      "  {'_id': 'P0', 'count': 72336},\n",
      "  {'_id': 'P2', 'count': 72336}]\n"
     ]
    }
   ],
   "source": [
    "result = nairobi.aggregate(\n",
    "    [\n",
    "        {\n",
    "            \"$match\": {\"location\": 3573}\n",
    "        },\n",
    "        {\n",
    "            \"$group\": {\"_id\": \"$value_type\", \"count\": {\"$count\": {}}}\n",
    "        }\n",
    "    ]\n",
    ")\n",
    "pp.pprint(list(result))"
   ]
  },
  {
   "cell_type": "code",
   "execution_count": 20,
   "id": "3a91d4b3",
   "metadata": {},
   "outputs": [
    {
     "name": "stdout",
     "output_type": "stream",
     "text": [
      "[ {'_id': 'humidity', 'count': 32223},\n",
      "  {'_id': 'P2', 'count': 32208},\n",
      "  {'_id': 'P0', 'count': 32208},\n",
      "  {'_id': 'P1', 'count': 32208},\n",
      "  {'_id': 'temperature', 'count': 32223}]\n"
     ]
    }
   ],
   "source": [
    "result = nairobi.aggregate(\n",
    "    [\n",
    "        {\n",
    "            \"$match\": {\"location\": 3576}\n",
    "        },\n",
    "        {\n",
    "            \"$group\": {\"_id\": \"$value_type\", \"count\": {\"$count\": {}}}\n",
    "        }\n",
    "    ]\n",
    ")\n",
    "pp.pprint(list(result))"
   ]
  },
  {
   "cell_type": "code",
   "execution_count": 21,
   "id": "ed1dd3c4",
   "metadata": {},
   "outputs": [
    {
     "name": "stdout",
     "output_type": "stream",
     "text": [
      "[ {'_id': 'P2', 'count': 375},\n",
      "  {'_id': 'P0', 'count': 375},\n",
      "  {'_id': 'temperature', 'count': 375},\n",
      "  {'_id': 'humidity', 'count': 375},\n",
      "  {'_id': 'P1', 'count': 375}]\n"
     ]
    }
   ],
   "source": [
    "result = nairobi.aggregate(\n",
    "    [\n",
    "        {\n",
    "            \"$match\": {\"location\": 3579}\n",
    "        },\n",
    "        {\n",
    "            \"$group\": {\"_id\": \"$value_type\", \"count\": {\"$count\": {}}}\n",
    "        }\n",
    "    ]\n",
    ")\n",
    "pp.pprint(list(result))"
   ]
  },
  {
   "cell_type": "code",
   "execution_count": 22,
   "id": "19e67ba9",
   "metadata": {},
   "outputs": [
    {
     "name": "stdout",
     "output_type": "stream",
     "text": [
      "[ {'_id': 'humidity', 'count': 665},\n",
      "  {'_id': 'P2', 'count': 675},\n",
      "  {'_id': 'P0', 'count': 675},\n",
      "  {'_id': 'P1', 'count': 675},\n",
      "  {'_id': 'temperature', 'count': 665}]\n"
     ]
    }
   ],
   "source": [
    "result = nairobi.aggregate(\n",
    "    [\n",
    "        {\n",
    "            \"$match\": {\"location\": 3580}\n",
    "        },\n",
    "        {\n",
    "            \"$group\": {\"_id\": \"$value_type\", \"count\": {\"$count\": {}}}\n",
    "        }\n",
    "    ]\n",
    ")\n",
    "pp.pprint(list(result))"
   ]
  },
  {
   "cell_type": "code",
   "execution_count": 23,
   "id": "14633e3d",
   "metadata": {},
   "outputs": [
    {
     "name": "stdout",
     "output_type": "stream",
     "text": [
      "[ {'_id': 'humidity', 'count': 742},\n",
      "  {'_id': 'P2', 'count': 1126},\n",
      "  {'_id': 'P0', 'count': 567},\n",
      "  {'_id': 'P1', 'count': 1126},\n",
      "  {'_id': 'temperature', 'count': 742}]\n"
     ]
    }
   ],
   "source": [
    "result = nairobi.aggregate(\n",
    "    [\n",
    "        {\n",
    "            \"$match\": {\"location\": 3596}\n",
    "        },\n",
    "        {\n",
    "            \"$group\": {\"_id\": \"$value_type\", \"count\": {\"$count\": {}}}\n",
    "        }\n",
    "    ]\n",
    ")\n",
    "pp.pprint(list(result))"
   ]
  },
  {
   "cell_type": "markdown",
   "id": "03dc5b79",
   "metadata": {},
   "source": [
    "Use the `find` method to retrieve the PM 2.5 readings from location `3573`. i will limit the results to 3 records only. Since i won't need the metadata for our model, use the `projection` argument to limit the results to the `\"P2\"` and `\"timestamp\"` keys only."
   ]
  },
  {
   "cell_type": "code",
   "execution_count": 24,
   "id": "f2ed906a",
   "metadata": {},
   "outputs": [
    {
     "name": "stdout",
     "output_type": "stream",
     "text": [
      "{'timestamp': datetime.datetime(2023, 5, 1, 0, 0, 34, 240000), 'value': 39.0}\n"
     ]
    }
   ],
   "source": [
    "result = nairobi.find(\n",
    "    {\"value_type\": \"P2\", \"location\": 3573},\n",
    "    projection = {\"P2\": 1, \"value\": 1, \"timestamp\": 1, \"_id\": 0}\n",
    ")\n",
    "pp.pprint(result[0])"
   ]
  },
  {
   "cell_type": "markdown",
   "id": "6e69321b",
   "metadata": {},
   "source": [
    "Read records from your `result` into the DataFrame `df`. Be sure to set the index to `\"timestamp\"`."
   ]
  },
  {
   "cell_type": "code",
   "execution_count": 25,
   "id": "587ac3e6",
   "metadata": {},
   "outputs": [
    {
     "data": {
      "text/html": [
       "<div>\n",
       "<style scoped>\n",
       "    .dataframe tbody tr th:only-of-type {\n",
       "        vertical-align: middle;\n",
       "    }\n",
       "\n",
       "    .dataframe tbody tr th {\n",
       "        vertical-align: top;\n",
       "    }\n",
       "\n",
       "    .dataframe thead th {\n",
       "        text-align: right;\n",
       "    }\n",
       "</style>\n",
       "<table border=\"1\" class=\"dataframe\">\n",
       "  <thead>\n",
       "    <tr style=\"text-align: right;\">\n",
       "      <th></th>\n",
       "      <th>value</th>\n",
       "    </tr>\n",
       "    <tr>\n",
       "      <th>timestamp</th>\n",
       "      <th></th>\n",
       "    </tr>\n",
       "  </thead>\n",
       "  <tbody>\n",
       "    <tr>\n",
       "      <th>2023-05-01 00:00:34.240</th>\n",
       "      <td>39.00</td>\n",
       "    </tr>\n",
       "    <tr>\n",
       "      <th>2023-05-01 00:01:07.058</th>\n",
       "      <td>52.25</td>\n",
       "    </tr>\n",
       "    <tr>\n",
       "      <th>2023-05-01 00:01:39.115</th>\n",
       "      <td>58.00</td>\n",
       "    </tr>\n",
       "    <tr>\n",
       "      <th>2023-05-01 00:02:10.942</th>\n",
       "      <td>32.80</td>\n",
       "    </tr>\n",
       "    <tr>\n",
       "      <th>2023-05-01 00:02:42.789</th>\n",
       "      <td>42.00</td>\n",
       "    </tr>\n",
       "  </tbody>\n",
       "</table>\n",
       "</div>"
      ],
      "text/plain": [
       "                         value\n",
       "timestamp                     \n",
       "2023-05-01 00:00:34.240  39.00\n",
       "2023-05-01 00:01:07.058  52.25\n",
       "2023-05-01 00:01:39.115  58.00\n",
       "2023-05-01 00:02:10.942  32.80\n",
       "2023-05-01 00:02:42.789  42.00"
      ]
     },
     "execution_count": 25,
     "metadata": {},
     "output_type": "execute_result"
    }
   ],
   "source": [
    "df = pd.DataFrame(result).set_index(\"timestamp\")\n",
    "df.head()"
   ]
  },
  {
   "cell_type": "code",
   "execution_count": 27,
   "id": "73a14d38",
   "metadata": {},
   "outputs": [
    {
     "data": {
      "text/html": [
       "<div>\n",
       "<style scoped>\n",
       "    .dataframe tbody tr th:only-of-type {\n",
       "        vertical-align: middle;\n",
       "    }\n",
       "\n",
       "    .dataframe tbody tr th {\n",
       "        vertical-align: top;\n",
       "    }\n",
       "\n",
       "    .dataframe thead th {\n",
       "        text-align: right;\n",
       "    }\n",
       "</style>\n",
       "<table border=\"1\" class=\"dataframe\">\n",
       "  <thead>\n",
       "    <tr style=\"text-align: right;\">\n",
       "      <th></th>\n",
       "      <th>P2</th>\n",
       "    </tr>\n",
       "    <tr>\n",
       "      <th>timestamp</th>\n",
       "      <th></th>\n",
       "    </tr>\n",
       "  </thead>\n",
       "  <tbody>\n",
       "    <tr>\n",
       "      <th>2023-05-01 00:00:34.240</th>\n",
       "      <td>39.00</td>\n",
       "    </tr>\n",
       "    <tr>\n",
       "      <th>2023-05-01 00:01:07.058</th>\n",
       "      <td>52.25</td>\n",
       "    </tr>\n",
       "    <tr>\n",
       "      <th>2023-05-01 00:01:39.115</th>\n",
       "      <td>58.00</td>\n",
       "    </tr>\n",
       "    <tr>\n",
       "      <th>2023-05-01 00:02:10.942</th>\n",
       "      <td>32.80</td>\n",
       "    </tr>\n",
       "    <tr>\n",
       "      <th>2023-05-01 00:02:42.789</th>\n",
       "      <td>42.00</td>\n",
       "    </tr>\n",
       "    <tr>\n",
       "      <th>...</th>\n",
       "      <td>...</td>\n",
       "    </tr>\n",
       "    <tr>\n",
       "      <th>2023-05-31 23:55:08.388</th>\n",
       "      <td>31.00</td>\n",
       "    </tr>\n",
       "    <tr>\n",
       "      <th>2023-05-31 23:55:40.226</th>\n",
       "      <td>30.50</td>\n",
       "    </tr>\n",
       "    <tr>\n",
       "      <th>2023-05-31 23:56:11.864</th>\n",
       "      <td>25.20</td>\n",
       "    </tr>\n",
       "    <tr>\n",
       "      <th>2023-05-31 23:56:43.671</th>\n",
       "      <td>26.75</td>\n",
       "    </tr>\n",
       "    <tr>\n",
       "      <th>2023-05-31 23:57:15.301</th>\n",
       "      <td>26.60</td>\n",
       "    </tr>\n",
       "  </tbody>\n",
       "</table>\n",
       "<p>72336 rows × 1 columns</p>\n",
       "</div>"
      ],
      "text/plain": [
       "                            P2\n",
       "timestamp                     \n",
       "2023-05-01 00:00:34.240  39.00\n",
       "2023-05-01 00:01:07.058  52.25\n",
       "2023-05-01 00:01:39.115  58.00\n",
       "2023-05-01 00:02:10.942  32.80\n",
       "2023-05-01 00:02:42.789  42.00\n",
       "...                        ...\n",
       "2023-05-31 23:55:08.388  31.00\n",
       "2023-05-31 23:55:40.226  30.50\n",
       "2023-05-31 23:56:11.864  25.20\n",
       "2023-05-31 23:56:43.671  26.75\n",
       "2023-05-31 23:57:15.301  26.60\n",
       "\n",
       "[72336 rows x 1 columns]"
      ]
     },
     "execution_count": 27,
     "metadata": {},
     "output_type": "execute_result"
    }
   ],
   "source": [
    "df[\"P2\"] = df[\"value\"]\n",
    "df.drop(columns=[\"value\"])"
   ]
  },
  {
   "cell_type": "code",
   "execution_count": null,
   "id": "16ae6733",
   "metadata": {},
   "outputs": [],
   "source": []
  }
 ],
 "metadata": {
  "kernelspec": {
   "display_name": "Python 3 (ipykernel)",
   "language": "python",
   "name": "python3"
  },
  "language_info": {
   "codemirror_mode": {
    "name": "ipython",
    "version": 3
   },
   "file_extension": ".py",
   "mimetype": "text/x-python",
   "name": "python",
   "nbconvert_exporter": "python",
   "pygments_lexer": "ipython3",
   "version": "3.9.13"
  }
 },
 "nbformat": 4,
 "nbformat_minor": 5
}
